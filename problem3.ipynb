{
 "cells": [
  {
   "cell_type": "code",
   "execution_count": 1,
   "id": "7a16cf4e",
   "metadata": {},
   "outputs": [],
   "source": [
    "import numpy as np\n",
    "import scipy.stats as sps\n",
    "import matplotlib.pyplot as plt"
   ]
  },
  {
   "cell_type": "markdown",
   "id": "260386f2",
   "metadata": {},
   "source": [
    "# 1"
   ]
  },
  {
   "cell_type": "markdown",
   "id": "0dd6e22f",
   "metadata": {},
   "source": [
    "# Генерация абсолютно случайной матрицы  𝑛×𝑚"
   ]
  },
  {
   "cell_type": "code",
   "execution_count": 3,
   "id": "0b37e697",
   "metadata": {},
   "outputs": [
    {
     "data": {
      "text/plain": [
       "array([[0.41461345, 0.81688577, 0.8342401 ],\n",
       "       [0.21933915, 0.38995517, 0.35531049]])"
      ]
     },
     "execution_count": 3,
     "metadata": {},
     "output_type": "execute_result"
    }
   ],
   "source": [
    "def random_matrix(n, m):\n",
    "    return sps.uniform.rvs(size=(n, m))\n",
    "\n",
    "random_matrix(2, 3)"
   ]
  },
  {
   "cell_type": "markdown",
   "id": "2244f1af",
   "metadata": {},
   "source": [
    "# Генерация случайной диагональной матрицы  𝑛×𝑛"
   ]
  },
  {
   "cell_type": "code",
   "execution_count": 5,
   "id": "c299f110",
   "metadata": {},
   "outputs": [
    {
     "data": {
      "text/plain": [
       "array([[0.78195324, 0.        , 0.        , 0.        ],\n",
       "       [0.        , 0.76661718, 0.        , 0.        ],\n",
       "       [0.        , 0.        , 0.58054463, 0.        ],\n",
       "       [0.        , 0.        , 0.        , 0.97510176]])"
      ]
     },
     "execution_count": 5,
     "metadata": {},
     "output_type": "execute_result"
    }
   ],
   "source": [
    "def random_diag(n):\n",
    "    return np.diag(sps.uniform.rvs(size=n))\n",
    "\n",
    "random_diag(4)"
   ]
  },
  {
   "cell_type": "markdown",
   "id": "0b100712",
   "metadata": {},
   "source": [
    "# Генерация случайной верхнетреугольной матрицы"
   ]
  },
  {
   "cell_type": "code",
   "execution_count": 8,
   "id": "6bbdb31d",
   "metadata": {},
   "outputs": [
    {
     "data": {
      "text/plain": [
       "array([[0.22655811, 0.62107095, 0.73048684, 0.15451416],\n",
       "       [0.        , 0.62107095, 0.73048684, 0.15451416],\n",
       "       [0.        , 0.        , 0.73048684, 0.15451416],\n",
       "       [0.        , 0.        , 0.        , 0.15451416]])"
      ]
     },
     "execution_count": 8,
     "metadata": {},
     "output_type": "execute_result"
    }
   ],
   "source": [
    "def random_uptriangle(n):\n",
    "    return np.triu(sps.uniform.rvs(size=n))\n",
    "\n",
    "random_uptriangle(4)"
   ]
  },
  {
   "cell_type": "markdown",
   "id": "bcc12d55",
   "metadata": {},
   "source": [
    "# Генерация случайной нижнетреугольной матрицы"
   ]
  },
  {
   "cell_type": "code",
   "execution_count": 9,
   "id": "739ed140",
   "metadata": {},
   "outputs": [
    {
     "data": {
      "text/plain": [
       "array([[0.85348372, 0.        , 0.        , 0.        ],\n",
       "       [0.08869281, 0.08869281, 0.        , 0.        ],\n",
       "       [0.75027053, 0.75027053, 0.75027053, 0.        ],\n",
       "       [0.68502912, 0.68502912, 0.68502912, 0.68502912]])"
      ]
     },
     "execution_count": 9,
     "metadata": {},
     "output_type": "execute_result"
    }
   ],
   "source": [
    "def random_downtriangle(n):\n",
    "    return random_uptriangle(n).T\n",
    "\n",
    "random_downtriangle(4)"
   ]
  },
  {
   "cell_type": "markdown",
   "id": "11dade7d",
   "metadata": {},
   "source": [
    "# Генерация симметричной матрицы"
   ]
  },
  {
   "cell_type": "code",
   "execution_count": 11,
   "id": "df69d3b6",
   "metadata": {},
   "outputs": [
    {
     "data": {
      "text/plain": [
       "array([[0.19274048, 0.58244832, 0.41450469, 0.62912367],\n",
       "       [0.58244832, 0.43519591, 0.85493316, 0.60088851],\n",
       "       [0.41450469, 0.85493316, 0.86173629, 0.17206622],\n",
       "       [0.62912367, 0.60088851, 0.17206622, 0.55619218]])"
      ]
     },
     "execution_count": 11,
     "metadata": {},
     "output_type": "execute_result"
    }
   ],
   "source": [
    "def random_sym(n):\n",
    "    p = sps.uniform.rvs(size=(n ,n))\n",
    "    return (p + p.T)/2\n",
    "\n",
    "random_sym(4)"
   ]
  },
  {
   "cell_type": "markdown",
   "id": "f9343837",
   "metadata": {},
   "source": [
    "# Генерация вырожденной матрицы"
   ]
  },
  {
   "cell_type": "code",
   "execution_count": 197,
   "id": "80679602",
   "metadata": {},
   "outputs": [
    {
     "name": "stdout",
     "output_type": "stream",
     "text": [
      "[[0.83178639 0.15434237]\n",
      " [0.88101102 0.16347626]]\n",
      "3.6983579441361576e-17\n"
     ]
    }
   ],
   "source": [
    "def random_invert2x2(p):\n",
    "    x = np.linalg.det(p)\n",
    "    p[0][0] -= x/p[1][1]\n",
    "    return p\n",
    "\n",
    "print(random_invert2x2(p = sps.uniform.rvs(size=(2 ,2))))\n",
    "print(np.linalg.det(p))"
   ]
  },
  {
   "cell_type": "code",
   "execution_count": 207,
   "id": "cc6c244c",
   "metadata": {},
   "outputs": [
    {
     "name": "stdout",
     "output_type": "stream",
     "text": [
      "[[0.09085939 0.77489394 0.16531145 0.5904861 ]\n",
      " [0.50126305 0.46167181 0.86915866 0.77978552]\n",
      " [0.06274243 0.22206201 0.41806131 0.37507324]\n",
      " [0.11044321 0.39088765 0.73589805 0.66022772]] 0.0\n"
     ]
    }
   ],
   "source": [
    "def random_invert(n):\n",
    "    p = sps.uniform.rvs(size=(n ,n))\n",
    "    treck = []\n",
    "    for i in range(n-1):\n",
    "        for j in range(n-1):\n",
    "            treck.append(p[n-2-i:n-i, n-2-j:n-j])\n",
    "            random_invert2x2(treck[j+i])\n",
    "    return p\n",
    "\n",
    "l = random_invert(4)\n",
    "print(l, np.linalg.det(l))\n",
    "\n",
    "# как же у меня сгорел мозг после этого..."
   ]
  },
  {
   "cell_type": "markdown",
   "id": "7c058a10",
   "metadata": {},
   "source": [
    "# Генерация матрицы ступенчатого вида  𝑛×𝑛 ранга m"
   ]
  },
  {
   "cell_type": "code",
   "execution_count": 236,
   "id": "2361365a",
   "metadata": {},
   "outputs": [
    {
     "data": {
      "text/plain": [
       "array([[0.74860706, 0.41271509, 0.96131353, 0.84364778],\n",
       "       [0.        , 0.41271509, 0.96131353, 0.84364778],\n",
       "       [0.        , 0.        , 0.        , 0.        ],\n",
       "       [0.        , 0.        , 0.        , 0.        ]])"
      ]
     },
     "execution_count": 236,
     "metadata": {},
     "output_type": "execute_result"
    }
   ],
   "source": [
    "def random_stupen(n, m):\n",
    "    p = np.triu(sps.uniform.rvs(size=n))\n",
    "    b = np.concatenate(( np.zeros((m, n)), np.ones((n-m, n)) ), axis=0)\n",
    "    p[b==1] = 0\n",
    "    return p\n",
    "\n",
    "random_stupen(4, 2)\n",
    "    "
   ]
  },
  {
   "cell_type": "markdown",
   "id": "4cb57644",
   "metadata": {},
   "source": [
    "# Генерация возмущения матрицы  𝑛×𝑚\n",
    "n\n",
    "×\n",
    "m\n",
    " , каждый элемент которой не превосходит по модулю заданный  𝜀\n",
    "ε\n",
    " "
   ]
  },
  {
   "cell_type": "markdown",
   "id": "e22afdd0",
   "metadata": {},
   "source": [
    "# 2"
   ]
  },
  {
   "cell_type": "markdown",
   "id": "9c295d4e",
   "metadata": {},
   "source": [
    "Воспользуемся иллюстрацией визуализации норм. Итоговая картинка будет выглядеть как ромб, с вписанной и описанной окружностью.\n",
    "$$C_{1} || x || _{2} \\leq || x || _{1}  \\leq C_{2} || x || _{2}  \\Rightarrow \\newline$$\n",
    "$$|| x || _{2} \\leq || x || _{1} \\leq \\sqrt{2} || x || _{2} $$"
   ]
  },
  {
   "cell_type": "markdown",
   "id": "d711434c",
   "metadata": {},
   "source": [
    "# 3"
   ]
  },
  {
   "cell_type": "markdown",
   "id": "31ebac02",
   "metadata": {},
   "source": [
    "$$ || x || _{\\infty}  = max \\, x_{i} \\newline$$\n",
    "$$ || x || _{2} = \\sqrt{\\sum_{i} x_{i}^{2}} \\leq \\sqrt{m \\, max \\, (x_{i})^{2}} = \\sqrt{m} \\, max \\, |x_{i}|$$\n",
    "Соответственно, получаем:\n",
    "$$ || x || _{2} \\leq \\sqrt{m} \\, || x || _{\\infty} $$"
   ]
  },
  {
   "cell_type": "markdown",
   "id": "73f29239",
   "metadata": {},
   "source": [
    "Для численного примера, можем взять единичный вектор размерности $n$, тогда\n",
    "$$\\newline || x || _{\\infty} = 1 , || x || _{2} = \\sqrt{m} \\Rightarrow || x|| _{2} = \\sqrt{m} || x || _{\\infty} \\newline$$\n",
    "$$ \\dfrac{||A x||_{2}}{||x||_{2}} \\geq \\dfrac{|| A x || _{2}}{\\sqrt{n} || x||_{\\infty}} \\geq \\dfrac{|| A x|| _{\\infty}}{\\sqrt{n} ||x ||_{\\infty}} \\Rightarrow || A||_{\\infty} \\leq \\sqrt{n} || A||_{2}$$"
   ]
  },
  {
   "cell_type": "code",
   "execution_count": null,
   "id": "a19b3571",
   "metadata": {},
   "outputs": [],
   "source": []
  }
 ],
 "metadata": {
  "kernelspec": {
   "display_name": "Python 3",
   "language": "python",
   "name": "python3"
  },
  "language_info": {
   "codemirror_mode": {
    "name": "ipython",
    "version": 3
   },
   "file_extension": ".py",
   "mimetype": "text/x-python",
   "name": "python",
   "nbconvert_exporter": "python",
   "pygments_lexer": "ipython3",
   "version": "3.8.8"
  }
 },
 "nbformat": 4,
 "nbformat_minor": 5
}
