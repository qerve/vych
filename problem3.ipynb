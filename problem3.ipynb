{
 "cells": [
  {
   "cell_type": "code",
   "execution_count": 1,
   "id": "a2f3d1a9",
   "metadata": {},
   "outputs": [],
   "source": [
    "import numpy as np\n",
    "import scipy.stats as sps\n",
    "import matplotlib.pyplot as plt"
   ]
  },
  {
   "cell_type": "markdown",
   "id": "82a6b294",
   "metadata": {},
   "source": [
    "# 1"
   ]
  },
  {
   "cell_type": "markdown",
   "id": "58cccbeb",
   "metadata": {},
   "source": [
    "# Генерация абсолютно случайной матрицы  𝑛×𝑚"
   ]
  },
  {
   "cell_type": "code",
   "execution_count": 3,
   "id": "45dca10f",
   "metadata": {},
   "outputs": [
    {
     "data": {
      "text/plain": [
       "array([[0.41461345, 0.81688577, 0.8342401 ],\n",
       "       [0.21933915, 0.38995517, 0.35531049]])"
      ]
     },
     "execution_count": 3,
     "metadata": {},
     "output_type": "execute_result"
    }
   ],
   "source": [
    "def random_matrix(n, m):\n",
    "    return sps.uniform.rvs(size=(n, m))\n",
    "\n",
    "random_matrix(2, 3)"
   ]
  },
  {
   "cell_type": "markdown",
   "id": "08470f75",
   "metadata": {},
   "source": [
    "# Генерация случайной диагональной матрицы  𝑛×𝑛"
   ]
  },
  {
   "cell_type": "code",
   "execution_count": 5,
   "id": "35501d25",
   "metadata": {},
   "outputs": [
    {
     "data": {
      "text/plain": [
       "array([[0.78195324, 0.        , 0.        , 0.        ],\n",
       "       [0.        , 0.76661718, 0.        , 0.        ],\n",
       "       [0.        , 0.        , 0.58054463, 0.        ],\n",
       "       [0.        , 0.        , 0.        , 0.97510176]])"
      ]
     },
     "execution_count": 5,
     "metadata": {},
     "output_type": "execute_result"
    }
   ],
   "source": [
    "def random_diag(n):\n",
    "    return np.diag(sps.uniform.rvs(size=n))\n",
    "\n",
    "random_diag(4)"
   ]
  },
  {
   "cell_type": "markdown",
   "id": "2283c6f3",
   "metadata": {},
   "source": [
    "# Генерация случайной верхнетреугольной матрицы"
   ]
  },
  {
   "cell_type": "code",
   "execution_count": 8,
   "id": "1f6f0964",
   "metadata": {},
   "outputs": [
    {
     "data": {
      "text/plain": [
       "array([[0.22655811, 0.62107095, 0.73048684, 0.15451416],\n",
       "       [0.        , 0.62107095, 0.73048684, 0.15451416],\n",
       "       [0.        , 0.        , 0.73048684, 0.15451416],\n",
       "       [0.        , 0.        , 0.        , 0.15451416]])"
      ]
     },
     "execution_count": 8,
     "metadata": {},
     "output_type": "execute_result"
    }
   ],
   "source": [
    "def random_uptriangle(n):\n",
    "    return np.triu(sps.uniform.rvs(size=n))\n",
    "\n",
    "random_uptriangle(4)"
   ]
  },
  {
   "cell_type": "markdown",
   "id": "6974eac6",
   "metadata": {},
   "source": [
    "# Генерация случайной нижнетреугольной матрицы"
   ]
  },
  {
   "cell_type": "code",
   "execution_count": 9,
   "id": "b554113c",
   "metadata": {},
   "outputs": [
    {
     "data": {
      "text/plain": [
       "array([[0.85348372, 0.        , 0.        , 0.        ],\n",
       "       [0.08869281, 0.08869281, 0.        , 0.        ],\n",
       "       [0.75027053, 0.75027053, 0.75027053, 0.        ],\n",
       "       [0.68502912, 0.68502912, 0.68502912, 0.68502912]])"
      ]
     },
     "execution_count": 9,
     "metadata": {},
     "output_type": "execute_result"
    }
   ],
   "source": [
    "def random_downtriangle(n):\n",
    "    return random_uptriangle(n).T\n",
    "\n",
    "random_downtriangle(4)"
   ]
  },
  {
   "cell_type": "markdown",
   "id": "0be2972e",
   "metadata": {},
   "source": [
    "# Генерация симметричной матрицы"
   ]
  },
  {
   "cell_type": "code",
   "execution_count": 11,
   "id": "cea0bc5b",
   "metadata": {},
   "outputs": [
    {
     "data": {
      "text/plain": [
       "array([[0.19274048, 0.58244832, 0.41450469, 0.62912367],\n",
       "       [0.58244832, 0.43519591, 0.85493316, 0.60088851],\n",
       "       [0.41450469, 0.85493316, 0.86173629, 0.17206622],\n",
       "       [0.62912367, 0.60088851, 0.17206622, 0.55619218]])"
      ]
     },
     "execution_count": 11,
     "metadata": {},
     "output_type": "execute_result"
    }
   ],
   "source": [
    "def random_sym(n):\n",
    "    p = sps.uniform.rvs(size=(n ,n))\n",
    "    return (p + p.T)/2\n",
    "\n",
    "random_sym(4)"
   ]
  },
  {
   "cell_type": "markdown",
   "id": "d08c1586",
   "metadata": {},
   "source": [
    "# Генерация вырожденной матрицы"
   ]
  },
  {
   "cell_type": "code",
   "execution_count": 197,
   "id": "441f0f88",
   "metadata": {},
   "outputs": [
    {
     "name": "stdout",
     "output_type": "stream",
     "text": [
      "[[0.83178639 0.15434237]\n",
      " [0.88101102 0.16347626]]\n",
      "3.6983579441361576e-17\n"
     ]
    }
   ],
   "source": [
    "def random_invert2x2(p):\n",
    "    x = np.linalg.det(p)\n",
    "    p[0][0] -= x/p[1][1]\n",
    "    return p\n",
    "\n",
    "print(random_invert2x2(p = sps.uniform.rvs(size=(2 ,2))))\n",
    "print(np.linalg.det(p))"
   ]
  },
  {
   "cell_type": "code",
   "execution_count": 200,
   "id": "a1d53bf9",
   "metadata": {},
   "outputs": [
    {
     "name": "stdout",
     "output_type": "stream",
     "text": [
      "[[0.44783989 0.29370406 0.24297333 0.55574087]\n",
      " [0.24713824 0.0819038  0.4924657  0.13300428]\n",
      " [0.86826794 0.28729579 1.7274329  0.46654209]\n",
      " [0.44411203 0.14694948 0.88356796 0.23863251]] 3.4674369073667055e-21\n"
     ]
    }
   ],
   "source": [
    "def random_invert(n):\n",
    "    p = sps.uniform.rvs(size=(n ,n))\n",
    "    treck = []\n",
    "    for i in range(n-1):\n",
    "        for j in range(n-1):\n",
    "            treck.append(p[n-2-i:n-i, n-2-j:n-j])\n",
    "            random_invert2x2(treck[j+i])\n",
    "    return p\n",
    "\n",
    "l = random_invert(4)\n",
    "print(l, np.linalg.det(l))\n",
    "\n",
    "# как же у меня сгорел мозг после этого..."
   ]
  },
  {
   "cell_type": "code",
   "execution_count": null,
   "id": "9a8635fe",
   "metadata": {},
   "outputs": [],
   "source": []
  },
  {
   "cell_type": "code",
   "execution_count": null,
   "id": "4f750bf0",
   "metadata": {},
   "outputs": [],
   "source": []
  },
  {
   "cell_type": "code",
   "execution_count": null,
   "id": "b05f0de2",
   "metadata": {},
   "outputs": [],
   "source": []
  },
  {
   "cell_type": "code",
   "execution_count": null,
   "id": "622c5c43",
   "metadata": {},
   "outputs": [],
   "source": []
  },
  {
   "cell_type": "code",
   "execution_count": null,
   "id": "c93b99b2",
   "metadata": {},
   "outputs": [],
   "source": []
  },
  {
   "cell_type": "code",
   "execution_count": null,
   "id": "9b45ea87",
   "metadata": {},
   "outputs": [],
   "source": []
  },
  {
   "cell_type": "code",
   "execution_count": null,
   "id": "3dadaec7",
   "metadata": {},
   "outputs": [],
   "source": []
  },
  {
   "cell_type": "code",
   "execution_count": null,
   "id": "9bc1b982",
   "metadata": {},
   "outputs": [],
   "source": []
  },
  {
   "cell_type": "code",
   "execution_count": null,
   "id": "6be28e89",
   "metadata": {},
   "outputs": [],
   "source": []
  }
 ],
 "metadata": {
  "kernelspec": {
   "display_name": "Python 3",
   "language": "python",
   "name": "python3"
  },
  "language_info": {
   "codemirror_mode": {
    "name": "ipython",
    "version": 3
   },
   "file_extension": ".py",
   "mimetype": "text/x-python",
   "name": "python",
   "nbconvert_exporter": "python",
   "pygments_lexer": "ipython3",
   "version": "3.8.8"
  }
 },
 "nbformat": 4,
 "nbformat_minor": 5
}
