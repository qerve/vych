{
 "cells": [
  {
   "cell_type": "code",
   "execution_count": 2,
   "id": "910aecf0",
   "metadata": {},
   "outputs": [],
   "source": [
    "import numpy as np\n",
    "import matplotlib.pyplot as plt\n",
    "import scipy.stats as sps"
   ]
  },
  {
   "cell_type": "markdown",
   "id": "51411064",
   "metadata": {},
   "source": [
    "# 1"
   ]
  },
  {
   "cell_type": "code",
   "execution_count": 27,
   "id": "09d48c4e",
   "metadata": {},
   "outputs": [
    {
     "name": "stdout",
     "output_type": "stream",
     "text": [
      "[[1.         0.5        0.33333333 0.25       0.2        0.16666667\n",
      "  0.14285714 0.125     ]\n",
      " [0.5        0.33333333 0.25       0.2        0.16666667 0.14285714\n",
      "  0.125      0.11111111]\n",
      " [0.33333333 0.25       0.2        0.16666667 0.14285714 0.125\n",
      "  0.11111111 0.1       ]\n",
      " [0.25       0.2        0.16666667 0.14285714 0.125      0.11111111\n",
      "  0.1        0.09090909]\n",
      " [0.2        0.16666667 0.14285714 0.125      0.11111111 0.1\n",
      "  0.09090909 0.08333333]\n",
      " [0.16666667 0.14285714 0.125      0.11111111 0.1        0.09090909\n",
      "  0.08333333 0.07692308]\n",
      " [0.14285714 0.125      0.11111111 0.1        0.09090909 0.08333333\n",
      "  0.07692308 0.07142857]\n",
      " [0.125      0.11111111 0.1        0.09090909 0.08333333 0.07692308\n",
      "  0.07142857 0.06666667]]\n"
     ]
    }
   ],
   "source": [
    "H8 = np.zeros([8, 8])\n",
    "for i in range(0, 8):\n",
    "    for j in range(0, 8):\n",
    "        H8[i, j] = 1 / (i + 1 + j + 1 - 1) \n",
    "H10 = np.zeros([10, 10])\n",
    "for i in range(0, 10):\n",
    "    for j in range(0, 10):\n",
    "        H10[i, j] = 1 / (i + 1 + j + 1 - 1) \n",
    "b8 = np.reshape([1, 0, 0, 0, 0, 0, 0, 0], (8, 1))\n",
    "b10 = np.reshape([1, 0, 0, 0, 0, 0, 0, 0, 0, 0], (10, 1))\n",
    "\n",
    "print(H8)"
   ]
  },
  {
   "cell_type": "code",
   "execution_count": 28,
   "id": "224e9191",
   "metadata": {},
   "outputs": [],
   "source": [
    "epsilon = 10 ** (-8)\n",
    "\n",
    "def our_solution(H, b):\n",
    "    u, s, vh = np.linalg.svd(H)\n",
    "    v = vh.T\n",
    "    r = np.where(s < epsilon)\n",
    "    r = r[0][0]\n",
    "    utsvd = u[:, :r]\n",
    "    vtsvd = v[:, :r]\n",
    "    stsvd = s[:r]\n",
    "    xtsvd = np.sum(vtsvd * (b.T @ utsvd) * (1 / stsvd), axis = 1)\n",
    "    uadd = u[:, r:]\n",
    "    vadd = v[:, r:]\n",
    "    b2 = uadd.T @ b\n",
    "    C2 = uadd.T @ H @ vadd\n",
    "    Z2 = np.linalg.solve(C2, b2)\n",
    "    xour = np.reshape(xtsvd, [-1,1]) + vadd @ Z2\n",
    "    return xour"
   ]
  },
  {
   "cell_type": "code",
   "execution_count": 29,
   "id": "db5f0224",
   "metadata": {},
   "outputs": [
    {
     "name": "stdout",
     "output_type": "stream",
     "text": [
      "[[ 5.31246698e-07]\n",
      " [-2.69230002e-05]\n",
      " [ 3.35702745e-04]\n",
      " [-1.74788825e-03]\n",
      " [ 4.55386529e-03]\n",
      " [-6.26430154e-03]\n",
      " [ 4.35000440e-03]\n",
      " [-1.20120491e-03]]\n",
      "[[0.00000000e+00]\n",
      " [1.45519152e-11]\n",
      " [0.00000000e+00]\n",
      " [7.27595761e-12]\n",
      " [7.27595761e-12]\n",
      " [7.27595761e-12]\n",
      " [0.00000000e+00]\n",
      " [0.00000000e+00]]\n"
     ]
    }
   ],
   "source": [
    "x1 = np.linalg.solve(H8, b8) \n",
    "xour1 = our_solution(H8, b8)\n",
    "print(x1-xour1)  # погрешность\n",
    "print(H8 @ xour1 - b8)  # вектор невязки"
   ]
  },
  {
   "cell_type": "code",
   "execution_count": 30,
   "id": "9aeb00a0",
   "metadata": {},
   "outputs": [
    {
     "name": "stdout",
     "output_type": "stream",
     "text": [
      "[[ 2.06498583e-04]\n",
      " [-1.80506192e-02]\n",
      " [ 3.86469099e-01]\n",
      " [-3.52117275e+00]\n",
      " [ 1.68071527e+01]\n",
      " [-4.61981526e+01]\n",
      " [ 7.57562678e+01]\n",
      " [-7.31529369e+01]\n",
      " [ 3.83702615e+01]\n",
      " [-8.43018715e+00]]\n",
      "[[ 0.00000000e+00]\n",
      " [ 0.00000000e+00]\n",
      " [ 2.32830644e-10]\n",
      " [-2.32830644e-10]\n",
      " [ 0.00000000e+00]\n",
      " [ 4.65661287e-10]\n",
      " [ 0.00000000e+00]\n",
      " [ 0.00000000e+00]\n",
      " [ 2.32830644e-10]\n",
      " [-1.16415322e-10]]\n"
     ]
    }
   ],
   "source": [
    "x2 = np.linalg.solve(H10, b10) \n",
    "xour2 = our_solution(H10, b10)\n",
    "print(x2-xour2)  # погрешность\n",
    "print(H10 @ xour2 - b10)  # вектор невязки"
   ]
  },
  {
   "cell_type": "markdown",
   "id": "a73b3333",
   "metadata": {},
   "source": [
    "# 2"
   ]
  },
  {
   "cell_type": "code",
   "execution_count": 31,
   "id": "2aba64e9",
   "metadata": {},
   "outputs": [],
   "source": [
    "def random_vec_with_covariance_matrix(S):\n",
    "    n = S.shape[0]\n",
    "    m = np.random.normal(0, 10, n)\n",
    "    A = np.linalg.cholesky(S)\n",
    "    dispersion = 4 * np.random.rand(n)\n",
    "    z = np.random.normal(m, dispersion)\n",
    "    return m.T + A @ z.T"
   ]
  },
  {
   "cell_type": "code",
   "execution_count": 32,
   "id": "23491fd4",
   "metadata": {},
   "outputs": [
    {
     "data": {
      "text/plain": [
       "matrix([[ 3.259     , 19.03758044]])"
      ]
     },
     "execution_count": 32,
     "metadata": {},
     "output_type": "execute_result"
    }
   ],
   "source": [
    "Sigma = np.matrix([[1, 0], [0, 1]])\n",
    "random_vec_with_covariance_matrix(Sigma)"
   ]
  },
  {
   "cell_type": "markdown",
   "id": "519290d4",
   "metadata": {},
   "source": [
    "# 3"
   ]
  },
  {
   "cell_type": "code",
   "execution_count": 33,
   "id": "f369f4c7",
   "metadata": {},
   "outputs": [],
   "source": [
    "def procrustean_transformation(X1, X2):\n",
    "    n = X1.shape[0]\n",
    "    x1 = np.asmatrix(np.mean(X1, axis = 0))\n",
    "    x2 = np.asmatrix(np.mean(X2, axis = 0))\n",
    "    X1_ = X1 - np.reshape(np.ones(n), (-1, 1)) @ x1\n",
    "    X2_ = X2 - np.reshape(np.ones(n), (-1, 1)) @ x2\n",
    "    U, D, V = np.linalg.svd(X1_.T @ X2_)\n",
    "    R = U @ V \n",
    "    mu = -np.reshape(x2, (-1, 1)) + R.T @ np.reshape(x1, (-1, 1))\n",
    "    return R, mu"
   ]
  },
  {
   "cell_type": "code",
   "execution_count": 48,
   "id": "d747d391",
   "metadata": {},
   "outputs": [],
   "source": [
    "phi = np.linspace(0, 6* np.pi, 80) \n",
    "t = np.linspace(0, 79, 80)\n",
    "r = 0.01*t*np.cos(t)+3\n",
    "X1 = np.vstack((r * np.cos(phi)**5, r *np.sin(phi)**5)).T \n",
    "X2 = np.vstack(([0.5 * 2*(0.1*r*np.cos(r)+1) * np.cos(phi) + 5], [ 4*(0.1*np.cos(r)+1) * np.sin(phi) + 5])).T \n",
    "X2 = X2 @ np.asmatrix([[np.cos( - np.pi / 2.5), np.sin( - np.pi / 2.5)], [-np.sin( - np.pi / 2.5), np.cos( - np.pi / 2.5)]])\n",
    "X2 = np.asarray(X2)"
   ]
  },
  {
   "cell_type": "code",
   "execution_count": 49,
   "id": "50c7618f",
   "metadata": {},
   "outputs": [
    {
     "data": {
      "image/png": "[encoded data removed]",
      "text/plain": [
       "<Figure size 1152x504 with 2 Axes>"
      ]
     },
     "metadata": {
      "needs_background": "light"
     },
     "output_type": "display_data"
    }
   ],
   "source": [
    "R, mu = procrustean_transformation(X1, X2)\n",
    "X = X1 @ R - np.reshape(np.ones(np.size(t)), (np.size(t), 1)) @ mu.T #наша аппроксимация\n",
    "\n",
    "plt.figure(figsize=(16,7))\n",
    "plt.subplot(121)\n",
    "plt.scatter(X1.T[0], X1.T[1], c='g', label='Исходная фигура')\n",
    "plt.scatter(X2.T[0], X2.T[1], c='lightgreen')\n",
    "plt.legend()\n",
    "plt.subplot(122)\n",
    "plt.scatter(np.asarray(X.T[0]), np.asarray(X.T[1]), c=\"gray\", label = 'Прокрустово преобразование')\n",
    "plt.scatter(X2.T[0], X2.T[1], c='lightgreen')\n",
    "plt.scatter(X1.T[0], X1.T[1], c='g', label='Исходная фигура')\n",
    "plt.legend()\n",
    "plt.show()"
   ]
  },
  {
   "cell_type": "code",
   "execution_count": null,
   "id": "47faea6b",
   "metadata": {},
   "outputs": [],
   "source": []
  }
 ],
 "metadata": {
  "kernelspec": {
   "display_name": "Python 3",
   "language": "python",
   "name": "python3"
  },
  "language_info": {
   "codemirror_mode": {
    "name": "ipython",
    "version": 3
   },
   "file_extension": ".py",
   "mimetype": "text/x-python",
   "name": "python",
   "nbconvert_exporter": "python",
   "pygments_lexer": "ipython3",
   "version": "3.8.8"
  }
 },
 "nbformat": 4,
 "nbformat_minor": 5
}
