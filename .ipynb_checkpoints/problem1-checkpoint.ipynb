{
 "cells": [
  {
   "cell_type": "code",
   "execution_count": 2,
   "id": "3ab6fa06",
   "metadata": {},
   "outputs": [],
   "source": [
    "##Упражнение 1 - Numpy\n",
    "import numpy as np\n",
    "import matplotlib.pyplot as plt"
   ]
  },
  {
   "cell_type": "code",
   "execution_count": 3,
   "id": "56a46723",
   "metadata": {},
   "outputs": [
    {
     "data": {
      "text/plain": [
       "array([[1, 2, 5, 6],\n",
       "       [3, 4, 7, 8]])"
      ]
     },
     "execution_count": 3,
     "metadata": {},
     "output_type": "execute_result"
    }
   ],
   "source": [
    "#1\n",
    "a = np.array([[1, 2], [3, 4]])\n",
    "b = np.array([[5, 6], [7, 8]])\n",
    "np.concatenate((a.T, b.T), axis=0).T"
   ]
  },
  {
   "cell_type": "code",
   "execution_count": 4,
   "id": "26b944d4",
   "metadata": {},
   "outputs": [
    {
     "data": {
      "text/plain": [
       "array([4, 7, 5])"
      ]
     },
     "execution_count": 4,
     "metadata": {},
     "output_type": "execute_result"
    }
   ],
   "source": [
    "#2\n",
    "M = np.array([[1, 2, 3], [3, 4, 5], [5, 6, 7], [7, 8, 9]])\n",
    "a = np.array([1, 2, 1])\n",
    "b = np.array([1, 2, 2])\n",
    "M[a, b]"
   ]
  },
  {
   "cell_type": "code",
   "execution_count": 5,
   "id": "089414b1",
   "metadata": {},
   "outputs": [
    {
     "name": "stdout",
     "output_type": "stream",
     "text": [
      "1\n"
     ]
    },
    {
     "data": {
      "text/plain": [
       "2"
      ]
     },
     "execution_count": 5,
     "metadata": {},
     "output_type": "execute_result"
    }
   ],
   "source": [
    "#3\n",
    "P = np.array([[1, 2, 3], [0, 0, 6], [7, 8, 0]])\n",
    "tracer = np.trace(P)\n",
    "print(tracer)\n",
    "np.count_nonzero(np.diagonal(P==0))"
   ]
  },
  {
   "cell_type": "code",
   "execution_count": 7,
   "id": "10e829c5",
   "metadata": {},
   "outputs": [
    {
     "name": "stdout",
     "output_type": "stream",
     "text": [
      "[0 1 2 3 4] [1 4 2 1 1]\n"
     ]
    }
   ],
   "source": [
    "#4\n",
    "J = np.array([[1, 2, 1],[1, 3, 2],[1, 4, 0]])\n",
    "num, n = np.unique(J, return_counts = True)\n",
    "print(num, n)"
   ]
  },
  {
   "cell_type": "code",
   "execution_count": 9,
   "id": "17c6a737",
   "metadata": {},
   "outputs": [
    {
     "name": "stdout",
     "output_type": "stream",
     "text": [
      "[[0 2 1]\n",
      " [1 0 0]\n",
      " [1 4 0]]\n"
     ]
    }
   ],
   "source": [
    "#5\n",
    "K = np.array([[-1, 1, 1],[1, -1, -1],[0, 1, -1]])\n",
    "J[K < 0] = 0\n",
    "print(J)"
   ]
  },
  {
   "cell_type": "code",
   "execution_count": 23,
   "id": "278b08dd",
   "metadata": {},
   "outputs": [
    {
     "name": "stdout",
     "output_type": "stream",
     "text": [
      "[[-0.81649658  0.          0.81649658]\n",
      " [ 0.40824829 -0.70710678 -0.40824829]\n",
      " [ 0.40824829  0.70710678 -0.40824829]]\n"
     ]
    }
   ],
   "source": [
    "#6\n",
    "J = J - np.mean(J, axis=0)\n",
    "k = np.sqrt(np.sum(J**2, axis=0))\n",
    "k[k == 0] = 1\n",
    "J = J / k\n",
    "print(J)"
   ]
  },
  {
   "cell_type": "code",
   "execution_count": 35,
   "id": "47ef82f9",
   "metadata": {},
   "outputs": [
    {
     "name": "stdout",
     "output_type": "stream",
     "text": [
      "[[1 2 3]\n",
      " [3 4 5]] \n",
      " [[-1  3 -1]\n",
      " [ 0 -2  0]]\n",
      "[[-1 -3 -1]\n",
      " [-2 -2 -2]\n",
      " [-3 -1 -3]]\n"
     ]
    }
   ],
   "source": [
    "#7\n",
    "A = np.array([[1, 2, 3],[3, 4, 5]])\n",
    "B = np.array([[-1, 3, -1],[0, -2, 0]])\n",
    "print(A ,'\\n', B)\n",
    "print(A.T.dot(B))"
   ]
  },
  {
   "cell_type": "code",
   "execution_count": 149,
   "id": "571572e6",
   "metadata": {},
   "outputs": [
    {
     "name": "stdout",
     "output_type": "stream",
     "text": [
      "1.874999998108251e-05\n",
      "2.8499999643827323e-05\n",
      "6.620799922529841e-05\n",
      "0.0001494999996793922\n",
      "0.00027512500037119025\n",
      "0.0004743330000565038\n",
      "0.0009960830002455623\n",
      "0.0011174159999427502\n",
      "0.0011337089999869931\n",
      "0.0012844999992012163\n",
      "0.001630083000236482\n",
      "0.001916457999868726\n",
      "0.0024369170005229535\n",
      "0.003172208999785653\n",
      "0.0039863329993750085\n",
      "0.00643145799949707\n",
      "0.005536165999728837\n",
      "0.006014167000103043\n",
      "0.008465666000120109\n",
      "0.007369334000031813\n",
      "0.009267124999496446\n",
      "0.00932854100028635\n",
      "0.009417959000529663\n",
      "0.010334915999919758\n",
      "0.011597249999795167\n",
      "0.013252290999844263\n",
      "0.014836834000561794\n",
      "0.016408666999268462\n",
      "0.018179667000367772\n",
      "0.020106124999983876\n",
      "0.022515708000355517\n",
      "0.024069000000054075\n",
      "0.027249708999988798\n",
      "0.02892645799965976\n",
      "0.031797750000805536\n",
      "0.03720712500035006\n",
      "0.041157374999784224\n",
      "0.04251504100011516\n",
      "0.046875167000507645\n",
      "0.04986741599986999\n",
      "0.054496082999321516\n",
      "0.058017833000121755\n",
      "0.06252333300017199\n",
      "0.06656145800025115\n",
      "0.07103058299981058\n",
      "0.07646916699923167\n",
      "0.08155954099947849\n",
      "0.08717833300033817\n",
      "0.09384670800045569\n",
      "0.09764029199959623\n",
      "0.10654991699993843\n",
      "0.11043770799915364\n",
      "0.11665791699942929\n",
      "0.12632583399954456\n",
      "0.1301219580000179\n",
      "0.1373312920004537\n",
      "0.14579766699989705\n",
      "0.15573250000034022\n",
      "0.16090491599970846\n",
      "0.16819637499975215\n",
      "0.17910520900022675\n",
      "0.1853625000003376\n",
      "0.19704470799933915\n",
      "0.2056292499992196\n",
      "0.22171625000009954\n",
      "0.22508833299980324\n"
     ]
    },
    {
     "data": {
      "image/png": "[encoded data removed]",
      "text/plain": [
       "<Figure size 432x288 with 1 Axes>"
      ]
     },
     "metadata": {
      "needs_background": "light"
     },
     "output_type": "display_data"
    }
   ],
   "source": [
    "import time\n",
    "n = 66\n",
    "numpy_time, python_time = np.zeros(n), np.zeros(n)\n",
    "for i in range(1, n+1):\n",
    "    c = np.random.rand(i, i)\n",
    "    v = np.random.rand(i, i)\n",
    "    z = np.zeros((i,i))\n",
    "    # numpy score\n",
    "    start_time = time.perf_counter()\n",
    "    x = c.dot(v)\n",
    "    numpy_time[i-1] = time.perf_counter() - start_time\n",
    "    # python cycle score\n",
    "    start_time = time.perf_counter()\n",
    "    for j in range(i):\n",
    "        for h in range(i):\n",
    "            for y in range(i):\n",
    "                z[j][h] += c[j][y] * v[y][h]  \n",
    "    python_time[i-1] = time.perf_counter() - start_time\n",
    "    print(python_time[i-1])\n",
    "\n",
    "counts = np.linspace(1, n, n)\n",
    "fig, ax = plt.subplots()\n",
    "ax.plot(counts, numpy_time, '-', label = 'numpy')\n",
    "ax.plot(counts, python_time, '-', label = 'for/while')\n",
    "ax.set_ylabel('$time$')\n",
    "ax.set_xlabel('$N$')\n",
    "ax.legend()\n",
    "fig.savefig('dddw')"
   ]
  },
  {
   "cell_type": "code",
   "execution_count": 148,
   "id": "e80f81ce",
   "metadata": {},
   "outputs": [
    {
     "data": {
      "image/png": "[encoded data removed]",
      "text/plain": [
       "<Figure size 432x288 with 1 Axes>"
      ]
     },
     "metadata": {
      "needs_background": "light"
     },
     "output_type": "display_data"
    }
   ],
   "source": [
    "counts = np.linspace(1, n, n)\n",
    "fig, ax = plt.subplots()\n",
    "ax.plot(counts, np.log10(numpy_time), '-', label = 'numpy log10')\n",
    "ax.plot(counts, np.log10(python_time), '-', label = 'for/while log10')\n",
    "ax.set_ylabel('$time$')\n",
    "ax.set_xlabel('$N$')\n",
    "ax.legend()\n"
   ]
  },
  {
   "cell_type": "code",
   "execution_count": 144,
   "id": "43de2753",
   "metadata": {},
   "outputs": [
    {
     "data": {
      "text/plain": [
       "Text(0.5, 0, '$N$')"
      ]
     },
     "execution_count": 144,
     "metadata": {},
     "output_type": "execute_result"
    },
    {
     "data": {
      "image/png": "[encoded data removed]",
      "text/plain": [
       "<Figure size 432x288 with 1 Axes>"
      ]
     },
     "metadata": {
      "needs_background": "light"
     },
     "output_type": "display_data"
    }
   ],
   "source": [
    "fig, ax = plt.subplots()\n",
    "ax.plot(counts, numpy_time, '-')\n",
    "plt.title(\"numpy timing\")\n",
    "ax.set_ylabel('$time$')\n",
    "ax.set_xlabel('$N$')"
   ]
  },
  {
   "cell_type": "code",
   "execution_count": 145,
   "id": "f29ba5ca",
   "metadata": {},
   "outputs": [
    {
     "data": {
      "text/plain": [
       "Text(0.5, 0, '$N$')"
      ]
     },
     "execution_count": 145,
     "metadata": {},
     "output_type": "execute_result"
    },
    {
     "data": {
      "image/png": "[encoded data removed]",
      "text/plain": [
       "<Figure size 432x288 with 1 Axes>"
      ]
     },
     "metadata": {
      "needs_background": "light"
     },
     "output_type": "display_data"
    }
   ],
   "source": [
    "fig, ax = plt.subplots()\n",
    "ax.plot(counts, python_time, '-')\n",
    "plt.title(\"python cycle timing\")\n",
    "ax.set_ylabel('$time$')\n",
    "ax.set_xlabel('$N$')"
   ]
  },
  {
   "cell_type": "code",
   "execution_count": null,
   "id": "64518428",
   "metadata": {
    "scrolled": true
   },
   "outputs": [],
   "source": []
  },
  {
   "cell_type": "markdown",
   "id": "d7ba494a",
   "metadata": {},
   "source": []
  }
 ],
 "metadata": {
  "kernelspec": {
   "display_name": "Python 3",
   "language": "python",
   "name": "python3"
  },
  "language_info": {
   "codemirror_mode": {
    "name": "ipython",
    "version": 3
   },
   "file_extension": ".py",
   "mimetype": "text/x-python",
   "name": "python",
   "nbconvert_exporter": "python",
   "pygments_lexer": "ipython3",
   "version": "3.8.8"
  }
 },
 "nbformat": 4,
 "nbformat_minor": 5
}
