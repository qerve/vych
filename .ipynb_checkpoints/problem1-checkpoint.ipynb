{
 "cells": [
  {
   "cell_type": "code",
   "execution_count": 2,
   "id": "3ab6fa06",
   "metadata": {},
   "outputs": [],
   "source": [
    "##Упражнение 1 - Numpy\n",
    "import numpy as np\n",
    "import matplotlib.pyplot as plt"
   ]
  },
  {
   "cell_type": "code",
   "execution_count": 14,
   "id": "56a46723",
   "metadata": {},
   "outputs": [
    {
     "data": {
      "text/plain": [
       "array([[1, 2, 5, 6],\n",
       "       [3, 4, 7, 8]])"
      ]
     },
     "execution_count": 14,
     "metadata": {},
     "output_type": "execute_result"
    }
   ],
   "source": [
    "#1\n",
    "a = np.array([[1, 2], [3, 4]])\n",
    "b = np.array([[5, 6], [7, 8]])\n",
    "np.concatenate((a.T, b.T), axis=0).T"
   ]
  },
  {
   "cell_type": "code",
   "execution_count": 50,
   "id": "26b944d4",
   "metadata": {},
   "outputs": [
    {
     "data": {
      "text/plain": [
       "array([4, 7, 5])"
      ]
     },
     "execution_count": 50,
     "metadata": {},
     "output_type": "execute_result"
    }
   ],
   "source": [
    "#2\n",
    "M = np.array([[1, 2, 3], [3, 4, 5], [5, 6, 7], [7, 8, 9]])\n",
    "a = np.array([1, 2, 1])\n",
    "b = np.array([1, 2, 2])\n",
    "M[a, b]"
   ]
  },
  {
   "cell_type": "code",
   "execution_count": 47,
   "id": "089414b1",
   "metadata": {},
   "outputs": [
    {
     "name": "stdout",
     "output_type": "stream",
     "text": [
      "1\n"
     ]
    },
    {
     "data": {
      "text/plain": [
       "2"
      ]
     },
     "execution_count": 47,
     "metadata": {},
     "output_type": "execute_result"
    }
   ],
   "source": [
    "#3\n",
    "P = np.array([[1, 2, 3], [0, 0, 6], [7, 8, 0]])\n",
    "tracer = np.trace(P)\n",
    "print(tracer)\n",
    "np.count_nonzero(np.diagonal(P==0))"
   ]
  },
  {
   "cell_type": "code",
   "execution_count": null,
   "id": "10e829c5",
   "metadata": {},
   "outputs": [],
   "source": [
    "#4\n",
    "asdf"
   ]
  },
  {
   "cell_type": "code",
   "execution_count": null,
   "id": "17c6a737",
   "metadata": {},
   "outputs": [],
   "source": []
  }
 ],
 "metadata": {
  "kernelspec": {
   "display_name": "Python 3",
   "language": "python",
   "name": "python3"
  },
  "language_info": {
   "codemirror_mode": {
    "name": "ipython",
    "version": 3
   },
   "file_extension": ".py",
   "mimetype": "text/x-python",
   "name": "python",
   "nbconvert_exporter": "python",
   "pygments_lexer": "ipython3",
   "version": "3.8.8"
  }
 },
 "nbformat": 4,
 "nbformat_minor": 5
}
