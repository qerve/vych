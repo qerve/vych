{
 "cells": [
  {
   "cell_type": "code",
   "execution_count": 1,
   "id": "cadb1d27",
   "metadata": {},
   "outputs": [],
   "source": [
    "import numpy as np\n",
    "import matplotlib.pyplot as plt\n",
    "import scipy.stats as sps"
   ]
  },
  {
   "cell_type": "markdown",
   "id": "a25f547b",
   "metadata": {},
   "source": [
    "# 1"
   ]
  },
  {
   "cell_type": "markdown",
   "id": "debe4ecd",
   "metadata": {},
   "source": [
    "#### $$L = \\sum\\limits_{i = 1}^l (y_i - \\check{y})^2 \\rightarrow \\min\\limits_{\\check{y}}$$\n",
    "$$\\frac{\\partial L}{\\partial\\check{y}} = -\\sum\\limits_{i = 1}^l 2(y_i - \\check{y}) = 0 \\Rightarrow \\check{y} = \\frac{1}{l}\\sum\\limits_{i = 1}^{l} y_i = \\overline{y}$$"
   ]
  },
  {
   "cell_type": "markdown",
   "id": "af3ac7d5",
   "metadata": {},
   "source": [
    "# 3"
   ]
  },
  {
   "cell_type": "markdown",
   "id": "638ac8b5",
   "metadata": {},
   "source": [
    "#### $\\check{y} = \\check{w}x + \\check{b}$ - прямая, построенная по МНК, где параметры $\\check{w}, \\check{b}$ находится из минимизации функции $L = \\sum\\limits_{i = 1}^{l}(y_i - wx_i - b)^2$:\n",
    "\n",
    " \\begin{cases}\n",
    "   \\frac{\\partial \\mathcal{L}}{\\partial w} = 2\\sum\\limits_{i = 1}^{l}(y_i - wx_i - b)(-x_i) = 0 \\\\\n",
    "   \\frac{\\partial \\mathcal{L}}{\\partial b} = 2\\sum\\limits_{i = 1}^{l}(y_i - wx_i - b)(-1) = 0\n",
    " \\end{cases}"
   ]
  },
  {
   "cell_type": "markdown",
   "id": "5b79388e",
   "metadata": {},
   "source": [
    "#### Из второго уравнения, деля на $l$, сразу получаем: $\\overline{y} = \\check{w}\\overline{x} + \\check{b}$. Обобщим на случай многомерной регрессии:\n",
    "\n",
    "$\\check{y} = X\\check{w}$, где $X$ - матрица объект-признак (свободный член можно сразу учесть). Воспльзуемся сразу ответом (его легко получить из тензорной нотации): $\\check{w} = (X_0^{T}X_0)^{-1}X_0^{T}y_0$, где нижний индекс \"0\" означает исходную серию измерений. Подставим в качестве $X$ начальную матрицу $X_0$ и домножим слева на $X_0^T$: $X_0^T \\check{y_0} = (X_0^T X_0)  (X_0^{T}X_0)^{-1}X_0^{T}y_0 = X_0^T y_0 \\Rightarrow X_0^T(\\check{y_0} - y_0) = 0$. Считая признаки независимами, то есть столбцы матрицы $X_0$ независимыми, получим: $\\check{y_0} = y_0$. Таким образом, гиперплоскость, построенная по МНК, пересекается с исходной гиперплоскостью (по серии измерений)."
   ]
  },
  {
   "cell_type": "markdown",
   "id": "ba8a8cb1",
   "metadata": {},
   "source": [
    "# 4"
   ]
  },
  {
   "cell_type": "markdown",
   "id": "02438c9a",
   "metadata": {},
   "source": [
    "(Не общий случай) $\\\\$\n",
    "$X = \\left(X_1, X_2, \\ldots, X_n\\right)$\n",
    "1) $X \\rightarrow \\tilde{X} = \\left(X_1 - \\overline{X_1}, X_2 - \\overline{X_2} ,\\ldots, X_n -\\overline{X_n}\\right) \\Rightarrow \\tilde{X}^T\\tilde{X} = \\left(\n",
    "\\begin{array}{c}\n",
    "(X_1 - \\overline{X_1})^T\\\\\n",
    "(X_2 - \\overline{X_2})^T\\\\\n",
    "\\vdots\\\\\n",
    "(X_n - \\overline{X_n})^T\n",
    "\\end{array}\n",
    "\\right)\\left(X_1 - \\overline{X_1}, X_2 - \\overline{X_2} ,\\ldots, X_n -\\overline{X_n}\\right) = \\left(\\begin{array}{cccc}\n",
    "(X_1 - \\overline{X_1})^T(X_1 - \\overline{X_1}) & (X_1 -\\overline{X_1})(X_2-\\overline{X_2}) & \\ldots & (X_1 - \\overline{X_1})^T(X_n - \\overline{X_n})\\\\\n",
    "(X_2 - \\overline{X_2})^T(X_1 - \\overline{X_1}) & (X_2 - \\overline{X_2})^T(X_2 - \\overline{X_2}) & \\ldots & (X_2 - \\overline{X_2})^T(X_n - \\overline{X_n})\\\\\n",
    "\\ldots & \\ldots & \\ldots & \\ldots\\\\\n",
    "(X_n - \\overline{X_n})^T(X_1 - \\overline{X_1}) & (X_n - \\overline{X_n})^T(X_2 - \\overline{X_2}) & \\ldots & (X_n - \\overline{X_n})^T(X_n - \\overline{X_n})\n",
    "\\end{array}\\right) =\n",
    "l\\left(\\begin{array}{cccc}\n",
    "\\check{var} X_1  & \\check{cov}(X_1, X_2) & \\ldots & \\check{cov}(X_1, X_n)\\\\\n",
    "\\check{cov}(X_1, X_2) & \\check{var} X_2 & \\ldots & \\check{cov}(X_2, X_n)\\\\\n",
    "\\ldots & \\ldots& \\ldots& \\ldots\\\\\n",
    "\\check{cov}(X_1, X_n) & \\check{cov}(X_2, X_n) &\\ldots &    \\check{var} X_n\n",
    "\\end{array}\\right)$"
   ]
  },
  {
   "cell_type": "markdown",
   "id": "e61a519c",
   "metadata": {},
   "source": [
    "# 5"
   ]
  },
  {
   "cell_type": "code",
   "execution_count": 2,
   "id": "85c25f74",
   "metadata": {},
   "outputs": [
    {
     "name": "stdout",
     "output_type": "stream",
     "text": [
      "  dataset     x     y\n",
      "0       I  10.0  8.04\n",
      "1       I   8.0  6.95\n",
      "2       I  13.0  7.58\n",
      "3       I   9.0  8.81\n",
      "4       I  11.0  8.33\n",
      "   dataset     x      y\n",
      "39      IV   8.0   5.25\n",
      "40      IV  19.0  12.50\n",
      "41      IV   8.0   5.56\n",
      "42      IV   8.0   7.91\n",
      "43      IV   8.0   6.89\n"
     ]
    }
   ],
   "source": [
    "import seaborn\n",
    "import numpy as np\n",
    "from matplotlib import pyplot as plt\n",
    "import scipy as sp\n",
    "Data = seaborn.load_dataset('anscombe')\n",
    "print(Data.head())\n",
    "print(Data.tail())"
   ]
  },
  {
   "cell_type": "code",
   "execution_count": 3,
   "id": "78080157",
   "metadata": {},
   "outputs": [],
   "source": [
    "data1 = Data[\"dataset\"] == \"I\"\n",
    "data2 = Data[\"dataset\"] == \"II\"\n",
    "data3 = Data[\"dataset\"] == \"III\"\n",
    "data4 = Data[\"dataset\"] == \"IV\""
   ]
  },
  {
   "cell_type": "code",
   "execution_count": 4,
   "id": "8d1cd9de",
   "metadata": {},
   "outputs": [],
   "source": [
    "def plot(data):\n",
    "    x = Data[data][\"x\"]\n",
    "    y = Data[data][\"y\"]\n",
    "    varx = round(np.var(x), 2)\n",
    "    vary = round(np.var(y), 2)\n",
    "    r = round(np.sum((x - np.mean(x)) * (y - y.mean())) / np.sqrt(varx * vary) / np.size(x), 2)\n",
    "    plt.scatter(x, y, label = fr'$\\hat{{var}}x = {varx}, \\hat{{var}}y = {vary}, r = {r}$')\n",
    "    fp = np.polyfit(x, y, 1)\n",
    "    f = sp.poly1d(fp)\n",
    "    plt.plot(x, f(x), linewidth=1, c=\"g\")\n",
    "    plt.legend()"
   ]
  },
  {
   "cell_type": "code",
   "execution_count": 5,
   "id": "a077953b",
   "metadata": {},
   "outputs": [
    {
     "data": {
      "image/png": "[encoded data removed]",
      "text/plain": [
       "<Figure size 1152x720 with 4 Axes>"
      ]
     },
     "metadata": {
      "needs_background": "light"
     },
     "output_type": "display_data"
    }
   ],
   "source": [
    "plt.figure(figsize=(16,10))\n",
    "plt.subplot(221)\n",
    "plot(data1)\n",
    "plt.subplot(222)\n",
    "plot(data2)\n",
    "plt.subplot(223)\n",
    "plot(data3)\n",
    "plt.subplot(224)\n",
    "plot(data4)"
   ]
  },
  {
   "cell_type": "markdown",
   "id": "2680fe24",
   "metadata": {},
   "source": [
    " Видим, что дисперсии и коэффициент Пирсона одинаковы для всех 4ых выборок, но точки лежат совершенно по-разному. Это демонстрирует особую важность визуального анализа данных."
   ]
  },
  {
   "cell_type": "markdown",
   "id": "bea51027",
   "metadata": {},
   "source": [
    "# 6"
   ]
  },
  {
   "cell_type": "markdown",
   "id": "76536c49",
   "metadata": {},
   "source": [
    " $y = Xw$, где $y$ - вектор размерности $l$, матрица $X$ - размера $l \\times m$, $w$ - вектор параметров размера $m$. Причём $m > l$, так как система недоопределена."
   ]
  },
  {
   "cell_type": "markdown",
   "id": "d19d4f53",
   "metadata": {},
   "source": [
    "Нам необходимо подобрать вектор $w$ с минимальной нормой, который удовлетворяет уравнению $y = Xw, \\|w\\| = w^Tw - min$. Введём функционал так, чтобы учесть связь с $y$: $\\mathcal{L} (w, C) = w^Tw + C(y - Xw)$, где $C$ - строчка констант, а $(y - Xw)$ - нулевой вектор. Воспользуемся тензорной нотацией Эйнштейна: $\\mathcal{L} (w, C) = w_iw_i + C_i (y_i - X_{ij}w_j)$. \n",
    "\n",
    "$\\forall k \\in \\overline{1, m} \\hookrightarrow \\frac{\\partial\\mathcal{L} }{\\partial w_k} = 2w_k - C_iX_{ij} \\delta_{jk} = 2w_k - C_i X_{ik} = 0, \\frac{\\partial^2 \\mathcal{L}}{\\partial w_k\\partial w_q} = 2\\delta_{kq}$. То есть первое выражение действительно минимизирует функционал, так как квадратичная форма второго потенциала положительно определена."
   ]
  },
  {
   "cell_type": "markdown",
   "id": "0ffb362d",
   "metadata": {},
   "source": [
    "Отсюда: $w = \\frac{1}{2} X^TC^T \\Rightarrow y = \\frac{1}{2} X X^T C^T \\Rightarrow C^T = (XX^T)^{-1} 2y$. Обратная матрица сущесвует, так как матрица $X$ имеет полный ранг и $l < m$."
   ]
  },
  {
   "cell_type": "markdown",
   "id": "8df13b24",
   "metadata": {},
   "source": [
    "В итоге получаем $w = X^T(XX^T)^{-1}y$. Видим, что ответ действительно выражается через правую псевдообратную матрицу $X$. "
   ]
  },
  {
   "cell_type": "markdown",
   "id": "65be3c74",
   "metadata": {},
   "source": [
    "# 7"
   ]
  },
  {
   "cell_type": "code",
   "execution_count": 12,
   "id": "10e00ba3",
   "metadata": {},
   "outputs": [],
   "source": [
    "from sklearn.linear_model import LinearRegression\n",
    "x = np.array([1, 2, 3, 4, 5, 6, 7, 8, 9, 10])  # импортируемые данные\n",
    "y = np.array([249, 475, 708, 939, 1157, 1383, 1614, 1846, 2070, 2309])  # импортируемые данные"
   ]
  },
  {
   "cell_type": "code",
   "execution_count": 41,
   "id": "f635407d",
   "metadata": {},
   "outputs": [
    {
     "data": {
      "image/png": "[encoded data removed]",
      "text/plain": [
       "<Figure size 432x288 with 1 Axes>"
      ]
     },
     "metadata": {
      "needs_background": "light"
     },
     "output_type": "display_data"
    }
   ],
   "source": [
    "model = LinearRegression(fit_intercept=True)\n",
    "model.fit(x[:, np.newaxis], y)\n",
    "xfit = np.linspace(1, 10, 1000)\n",
    "yfit = model.predict(xfit[:, np.newaxis])\n",
    "\n",
    "fig, ax = plt.subplots()\n",
    "\n",
    "ax.set_ylabel('µ, $Hz$')\n",
    "ax.set_xlabel('$k$')\n",
    "ax.plot(x, y, '.', color='tab:gray')\n",
    "ax.plot(xfit, yfit, color='tab:blue', label='t = 20ºC')\n",
    "ax.errorbar(x, y, yerr=40, xerr = 0.2, fmt = '.', color='tab:gray')  # кресты погрешности\n",
    "ax.legend()\n",
    "plt.show()"
   ]
  },
  {
   "cell_type": "markdown",
   "id": "0a33ee90",
   "metadata": {},
   "source": [
    "# 8"
   ]
  },
  {
   "cell_type": "markdown",
   "id": "c8491784",
   "metadata": {},
   "source": [
    "$$\\rho(\\tilde{y}) = \\frac{1}{(2\\pi)^{l/2}(det A^{-1})^{1/2}}exp(-\\frac{1}{2}(\\tilde{y}-y)^TA(\\tilde{y} - y)),$$\n",
    "\n",
    "где $\\tilde{y} = (\\tilde{y_1} \\ldots \\tilde{y_l})^T, y = (y_1 \\ldots y_l)^T$ "
   ]
  },
  {
   "cell_type": "markdown",
   "id": "97a7df88",
   "metadata": {},
   "source": [
    "1) Сделаем замену $\\tilde{y} - y = Sz$, где матрица $S$ - переводит матрицу $A$ в диагональный вид $D = S^T AS$ (Из теории вероятности известно, что в данном случае матрица $S$ является ортогональной (сразу получаем $(det S)^2 = 1$))."
   ]
  },
  {
   "cell_type": "markdown",
   "id": "d4cadf8c",
   "metadata": {},
   "source": [
    "$det A^{-1} = \\frac{1}{detA}$. По свойствам определителя: $det D = det S^T det A det S = det A (det S)^2 = det A$. Подставляя замену в плотность вероятности, получаем:\n",
    "\n",
    "$$\\rho(z) = \\frac{(det D)^{1/2}}{(2\\pi)^{l/2}}exp(-\\frac{1}{2}(d_{11}z_1^2 + \\ldots d_{ll}z_l^2))$$"
   ]
  },
  {
   "cell_type": "markdown",
   "id": "4eb975ea",
   "metadata": {},
   "source": [
    "Выполним интегрирование по $\\mathbb{R}^l$: $\\int\\limits_{\\mathbb{R}^l}\\frac{\\sqrt{d_{11}\\ldots d_{ll}}}{(2\\pi)^{l/2}}exp(-\\frac{1}{2}(d_{11}z_1^2 + \\ldots d_{nn}z_n^2))dz =  / t_i = \\sqrt{d_{ii}}z_i, dz_i = \\frac{dt_i}{\\sqrt{d_{ii}}}/ = \\int\\limits_{\\mathbb{R}^l}\\frac{1}{(2\\pi)^{l/2}}exp(-\\frac{1}{2}(t_1^2 + \\ldots t_n^2))dt = 1$ - с использованием теоремы Фубини и значения интеграла Эйлера."
   ]
  },
  {
   "cell_type": "markdown",
   "id": "ea217d12",
   "metadata": {},
   "source": [
    "2) Предложенный подход через интегрирование является не очень понятным, поэтому сделаем через способы теории вероятности:\n",
    "\n",
    "$\\tilde{y}$ - Гаусов вектор, поэтому справедливо такое разложение: $\\tilde{y} = B(\\eta_1 \\ldots \\eta_m)^T + b^T$, где $B\\in\\mathbb{R}^{l\\times m}, b \\in \\mathbb{R}^l, \\eta_i \\sim \\mathcal{N}(0, 1)$ - независимые величины. Согласно доказательству (на основе характеристических функций) матрица $B = (\\sqrt{D}S)^{-1}$. \n",
    "\n",
    "$\\langle\\langle \\tilde{y_i} \\tilde{y_j} \\rangle\\rangle = cov(\\tilde{y_i}, \\tilde{y_j}) = cov((B\\eta)_i + b_i, (B\\eta)_j + b_j) = cov((B\\eta)_i, (B\\eta)_j) = cov(B_{i\\alpha}\\eta_{\\alpha},B_{j\\beta}\\eta_{\\beta}) = B_{i\\alpha}B_{j\\beta}cov(\\eta_{\\alpha}, \\eta_{\\beta}) = B_{i\\alpha}B_{j\\beta}\\delta_{\\alpha\\beta} = (BB^T)_{ij}$"
   ]
  },
  {
   "cell_type": "markdown",
   "id": "7dc18420",
   "metadata": {},
   "source": [
    "$BB^T = S^{-1}\\sqrt{D}^{-1}(\\sqrt{D}^{-1})^T (S^{-1})^T = S^TD^{-1}S = A^{-1}$ - матрица ковариации $\\Rightarrow  \\langle\\langle \\tilde{y_i} \\tilde{y_j} \\rangle\\rangle = A_{ij}^{-1}$"
   ]
  },
  {
   "cell_type": "markdown",
   "id": "4aca37af",
   "metadata": {},
   "source": [
    "3) Действуем по аналогии с лекции: пусть $Q = (X^TX)^{-1}X^T$. \n",
    "\n",
    "$\\langle\\langle \\tilde{w_{\\alpha}} \\tilde{w_{\\beta}}\\rangle\\rangle = Q_{\\alpha i}Q_{\\beta j}\\langle(\\tilde{y_i} - y_i)(\\tilde{y_j} - y_j)\\rangle = Q_{\\alpha i}Q_{\\beta j}\\langle\\langle \\tilde{y_i} \\tilde{y_j} \\rangle\\rangle = Q_{\\alpha i}Q_{\\beta j}A_{ij}^{-1}$"
   ]
  },
  {
   "cell_type": "markdown",
   "id": "842a94fa",
   "metadata": {},
   "source": [
    "$var \\tilde{w_{\\alpha}} = \\langle\\langle \\tilde{w_{\\alpha}} \\tilde{w_{\\alpha}}\\rangle\\rangle = Q_{\\alpha i}Q_{\\alpha j}A_{ij}^{-1}$(суммирования по $\\alpha$ не происходит)."
   ]
  },
  {
   "cell_type": "markdown",
   "id": "dd1cd233",
   "metadata": {},
   "source": [
    "4) $A = diag(A_1, \\ldots, A_l) \\Rightarrow var \\tilde{w_{\\alpha}} = Q_{\\alpha i}Q_{\\alpha i}A^{-1}_i$. Должно выполняться $A_i^{-1} = s_i$"
   ]
  },
  {
   "cell_type": "markdown",
   "id": "019cdc04",
   "metadata": {},
   "source": [
    "Рассмотрим случай 1 D регрессии $y = w_1x + w_0$: \n",
    "    \n",
    "\n",
    "$X = \\left(\n",
    "\\begin{array}{cc}\n",
    "x_1 & 1\\\\\n",
    "x_2 & 1\\\\\n",
    "\\vdots & \\vdots\\\\\n",
    "x_l & 1\n",
    "\\end{array}\n",
    "\\right)\n",
    "\\Rightarrow X^TX = l\\left(\n",
    "\\begin{array}{cc}\n",
    "\\overline{x^2} & \\overline{x}\\\\\n",
    "\\overline{x} & 1\\\\\n",
    "\\end{array}\n",
    "\\right) \\Rightarrow (X^TX)^{-1} =\\frac{1}{l\\hat{varx}}\n",
    "\\left(\n",
    "\\begin{array}{cc}\n",
    "1 & -\\overline{x}\\\\\n",
    "-\\overline{x} & \\overline{x^2}\\\\\n",
    "\\end{array}\n",
    "\\right) \\Rightarrow Q = (XTX)^{-1}X^T = \\frac{1}{l\\hat{varx}}\\left(\n",
    "\\begin{array}{cc}\n",
    "1 & -\\overline{x}\\\\\n",
    "-\\overline{x} & \\overline{x^2}\\\\\n",
    "\\end{array}\n",
    "\\right) \\left(\n",
    "\\begin{array}{cccc}\n",
    "x_1 & x_2 & \\ldots & x_l\\\\\n",
    "1 & 1 & \\ldots & 1\\\\\n",
    "\\end{array}\n",
    "\\right) =\n",
    "\\frac{1}{l\\hat{varx}}\\left(\n",
    "\\begin{array}{cccc}\n",
    "x_1 - \\overline{x} & x_2 -\\overline{x} & \\ldots & x_l - \\overline{x}\\\\\n",
    "-x_1\\overline{x} + \\overline{x^2} & -x_2\\overline{x} + \\overline{x^2} & \\ldots & -x_l\\overline{x} + \\overline{x^2}\\\\\n",
    "\\end{array}\\right)\n",
    "$"
   ]
  },
  {
   "cell_type": "markdown",
   "id": "60af971f",
   "metadata": {},
   "source": [
    "Отсюда получаем:\n",
    "    \n",
    "$var\\tilde{w_1} = \\frac{1}{l^2\\hat{varx}^2}\\sum\\limits_{i = 1}^{l}(x_i - \\overline{x})^2s_i$\n",
    "\n",
    "$var\\tilde{w_0} = \\frac{1}{l^2\\hat{varx}^2}\\sum\\limits_{i = 1}^{l}(-x_i\\overline{x} + \\overline{x^2})^2s_i$"
   ]
  },
  {
   "cell_type": "code",
   "execution_count": null,
   "id": "28fb3e4a",
   "metadata": {},
   "outputs": [],
   "source": []
  }
 ],
 "metadata": {
  "kernelspec": {
   "display_name": "Python 3",
   "language": "python",
   "name": "python3"
  },
  "language_info": {
   "codemirror_mode": {
    "name": "ipython",
    "version": 3
   },
   "file_extension": ".py",
   "mimetype": "text/x-python",
   "name": "python",
   "nbconvert_exporter": "python",
   "pygments_lexer": "ipython3",
   "version": "3.8.8"
  }
 },
 "nbformat": 4,
 "nbformat_minor": 5
}
